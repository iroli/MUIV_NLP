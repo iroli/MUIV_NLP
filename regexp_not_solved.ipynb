{
  "cells": [
    {
      "cell_type": "markdown",
      "metadata": {
        "id": "KwWN4rlvfph0"
      },
      "source": [
        "> *Когда некоторые люди сталкиваются с проблемой, думают «Я знаю, я решу её с помощью регулярных выражений.» Теперь у них две проблемы*"
      ]
    },
    {
      "cell_type": "markdown",
      "metadata": {
        "id": "AWHtCM55fph4"
      },
      "source": [
        "## Регулярные выражения\n",
        "\n",
        "Регулярное выражение — это строка, задающая шаблон поиска подстрок в тексте. Одному шаблону может соответствовать много разных строчек. \n",
        "\n",
        "Термин «Регулярные выражения» является переводом английского словосочетания «Regular expressions». Перевод не очень точно отражает смысл, правильнее было бы «шаблонные выражения». Регулярное выражение, или коротко «регулярка», состоит из обычных символов и специальных командных последовательностей. Например, `\\d` задаёт любую цифру, а `\\d*` — задает любую последовательность из нуля или более цифр\n",
        "\n",
        "### Начнем с простых текстовых шаблонов\n",
        "\n",
        "В Python поиску по шаблону обучно используется функция `search` из библиотеки `re`:\n",
        "````\n",
        "match = re.search(pattern, string)\n",
        "````"
      ]
    },
    {
      "cell_type": "code",
      "execution_count": 2,
      "metadata": {
        "id": "gCWjfyPzfph5"
      },
      "outputs": [],
      "source": [
        "import re"
      ]
    },
    {
      "cell_type": "markdown",
      "metadata": {
        "id": "slb0TzJlfph7"
      },
      "source": [
        "Метод `re.search()` принимает шаблон `pattern` и строку `string`, а затем ищет этот шаблон в строке. \n",
        "\n",
        "Если поиск успешен, `search()` возвращает подстроку, которая удовлетворяет поиску, в противном случае - `None. \n",
        "\n",
        "\n",
        "Давайте с помощью этого метода попробуем найти в строке котов:"
      ]
    },
    {
      "cell_type": "code",
      "execution_count": null,
      "metadata": {
        "colab": {
          "base_uri": "https://localhost:8080/"
        },
        "id": "QwPjw6mffph7",
        "outputId": "c671ba5a-dddc-42ec-c25e-9394861efc97"
      },
      "outputs": [
        {
          "name": "stdout",
          "output_type": "stream",
          "text": [
            "Нашёл слово: котиков\n"
          ]
        }
      ],
      "source": [
        "string = 'Я люблю котиков и мятные пряники'\n",
        "match = re.search( ### ДОПИШИТЕ КОД)\n",
        "if match:\n",
        "    print('Нашёл слово:', match.group())\n",
        "else:\n",
        "    print('В этом тексте нет котов :(')"
      ]
    },
    {
      "cell_type": "markdown",
      "metadata": {
        "id": "1Z04vKgwfph8"
      },
      "source": [
        "Код `match = re.search(r'какая-то регулярка', str)` сохраняет результат поиска в переменную с именем `match`. Если поиск завершился успешно, то `match.group()` является совпадающим текстом\n"
      ]
    },
    {
      "cell_type": "markdown",
      "metadata": {
        "id": "ZEGv40dufph9"
      },
      "source": [
        "## Основные спецсимволы\n",
        "\n",
        "Для задания шаблонов в регулярных выражениях используются спецсимволы.\n",
        "\n",
        "Давайте посмотрим основные из них:"
      ]
    },
    {
      "cell_type": "markdown",
      "metadata": {
        "id": "771IrzSufph9"
      },
      "source": [
        "**.**   Один любой символ, кроме новой строки\n",
        "\n",
        "**\\d**\tЛюбая цифра\n",
        "\n",
        "**\\D**\tЛюбой символ, кроме цифры\n",
        "\n",
        "**\\s**\tЛюбой пробельный символ (пробел, табуляция, конец строки и т.п.)\n",
        "\n",
        "**\\S**\tЛюбой непробельный символ\t(не пробел, не табуляция, не конец строки и т.п.)\n",
        "\n",
        "**\\w**\tЛюбая буква (то, что может быть частью слова), а также цифры и _\n",
        "\n",
        "**\\W**\tЛюбая не-буква, не-цифра и не подчёркивание\t\n",
        "\n",
        "**[..]**\tОдин из символов в скобках в рамках диапазона, то есть:\n",
        "\n",
        "**\\d** равносильно выражению `[0-9]`\n",
        "\n",
        "**\\D** равносильно выражению `[^0-9]`, так как символ ^ означает любой символ, кроме перечисленных\n",
        "\n",
        "**\\w** равносильно выражению `[0-9a-zA-Z]`, эта запись сочетает в себе последовательность из любых цифр, букв в обоих регистрах\n",
        "\n",
        "**\\s** равносильно `[\\f\\n\\r\\t]` (тут надо постараться, чтобы вспомнить что есть что!)\n",
        "\n",
        "**\\b** Начало или конец слова (слева пусто или не-буква и справа буква, или наоборот). В отличие от предыдущих соответствует позиции, а не символу.\n",
        "\n",
        "**^ и $**\tтоже обозначение начало и конца строки соответственно"
      ]
    },
    {
      "cell_type": "markdown",
      "metadata": {
        "id": "6j-viZe6kU-1"
      },
      "source": [
        "Кстати, любая строка, в которой нет символов, сама по себе является регулярным выражением. Так, выражению \"привет\" будет соответствовать строка “привет” и только она. Регулярные выражения являются регистрозависимыми, поэтому строка “ПрИвЕт” уже не подойдёт. Подобно строкам в языке Python, регулярные выражения имеют спецсимволы `**.^$*+?{}[]\\|()**`, которые в регулярках являются управляющими конструкциями. Для написания их просто как символов требуется их экранировать, для чего нужно поставить перед ними знак \\\n",
        "\n",
        "Например, если вы хотите найти выражение в скобках, то надо написать `\\(\\w*\\)`."
      ]
    },
    {
      "cell_type": "markdown",
      "metadata": {
        "id": "n_lux4YDfph-"
      },
      "source": [
        "### Посмотрим на примеры!"
      ]
    },
    {
      "cell_type": "code",
      "execution_count": null,
      "metadata": {
        "colab": {
          "base_uri": "https://localhost:8080/"
        },
        "id": "Y6Z7bMLMfph_",
        "outputId": "0a02fb8e-d1b2-4025-ff52-979b487154c5"
      },
      "outputs": [
        {
          "name": "stdout",
          "output_type": "stream",
          "text": [
            "дом, ком, ром, 5ом, 6ом, _ом, "
          ]
        }
      ],
      "source": [
        "# зададим шаблон: любой символ  + окончание \"ом\" и посмотрим, какие примеры подойдут\n",
        "all_strings = ['дом', 'ком', 'космодром', '5ом', '666ом', '_ом', 'ом']\n",
        "for element in all_strings:\n",
        "    match_ = re.search( ### ДОПИШИТЕ КОД\n",
        "    if match_:\n",
        "        print(match_.group(), end = ', ')"
      ]
    },
    {
      "cell_type": "code",
      "execution_count": null,
      "metadata": {
        "colab": {
          "base_uri": "https://localhost:8080/"
        },
        "id": "cnpivSCSviO5",
        "outputId": "a4ce6401-6f5f-44e8-b4a5-e54e3b4f2137"
      },
      "outputs": [
        {
          "name": "stdout",
          "output_type": "stream",
          "text": [
            "В строке есть вопросительный знак.\n",
            "?\n"
          ]
        }
      ],
      "source": [
        "# проверим есть ли в строке вопросительный знак\n",
        "string = 'Как дела?'\n",
        "result = re.search(### ДОПИШИТЕ КОД\n",
        "if result:\n",
        "    print('В строке есть вопросительный знак.')\n",
        "    print(result.group(0))\n",
        "else:\n",
        "    print('В строке нет вопросительно знака.')"
      ]
    },
    {
      "cell_type": "markdown",
      "metadata": {
        "id": "JAUn9CgqfpiC"
      },
      "source": [
        "### Вернёмся к теории\n",
        "\n",
        "Как в регулярном выражении объяснить, сколько раз нам нужно то или иное вхождение символов?\n",
        "\n",
        "**{n}**\t Ровно n повторений\t\n",
        "\n",
        "**{m,n}**\tОт m до n повторений включительно\t\n",
        "\n",
        "**{m,}**\tНе менее m повторений\t\n",
        "\n",
        "**{,n}**\tНе более n повторений\t\n",
        "\n",
        "**?**\tНоль или одно вхождение, аналогично {0,1}\n",
        "\n",
        "**\\***\tНоль или более вхождений, аналогично {0,}\n",
        "\n",
        "**\\+**\tОдно или более вхождений, аналогично {1,}\t\n",
        "\n",
        "**|** логический оператор или "
      ]
    },
    {
      "cell_type": "code",
      "execution_count": null,
      "metadata": {
        "colab": {
          "base_uri": "https://localhost:8080/"
        },
        "id": "aLkXDspffpiA",
        "outputId": "838deb30-3c46-452a-fc19-5879b39245f2"
      },
      "outputs": [
        {
          "name": "stdout",
          "output_type": "stream",
          "text": [
            "БЖУР192, "
          ]
        }
      ],
      "source": [
        "# в фигурных скобках количество повторений заданного символа, в этом случае мы ищем 3 числа после слова БЖУР\n",
        "string = 'Самые умные студенты учатся в группе БЖУР192'\n",
        "\n",
        "match_ = re.search(### ДОПИШИТЕ КОД\n",
        "if match_:\n",
        "    print(match_.group(), end = ', ')"
      ]
    },
    {
      "cell_type": "code",
      "execution_count": null,
      "metadata": {
        "colab": {
          "base_uri": "https://localhost:8080/"
        },
        "id": "uXh8slFMfpiA",
        "outputId": "279b0b6b-51d2-450d-d6e3-0d8435087cf7"
      },
      "outputs": [
        {
          "name": "stdout",
          "output_type": "stream",
          "text": [
            "1234, 1234, 1234, "
          ]
        }
      ],
      "source": [
        "# в этом случае мы ищем строки из 4 чисел \n",
        "all_strings = ['1', '12', '123','1234', '12345', '123456']\n",
        "for element in all_strings:\n",
        "    match = re.search(### ДОПИШИТЕ КОД\n",
        "    if match:\n",
        "        print(match.group(), end = ', ')"
      ]
    },
    {
      "cell_type": "code",
      "execution_count": null,
      "metadata": {
        "colab": {
          "base_uri": "https://localhost:8080/"
        },
        "id": "I_1P4-HkfpiA",
        "outputId": "0d51ba59-ea48-4623-e6a8-1c1b36e01f0f"
      },
      "outputs": [
        {
          "name": "stdout",
          "output_type": "stream",
          "text": [
            "1234, 12345, 123456, "
          ]
        }
      ],
      "source": [
        "# убрали ограничение на количество цифр и # в этом случае мы ищем строки из 4 чисел \n",
        "all_strings = ['1', '12', '123','1234', '12345', '123456']\n",
        "for element in all_strings:\n",
        "    match = re.search(r'\\d{4,}', element)\n",
        "    if match:\n",
        "        print(match.group(), end = ', ')"
      ]
    },
    {
      "cell_type": "code",
      "execution_count": null,
      "metadata": {
        "colab": {
          "base_uri": "https://localhost:8080/"
        },
        "id": "wXQRaqDdfpiB",
        "outputId": "4898fea9-6a63-4a36-cedd-8fec037216f7"
      },
      "outputs": [
        {
          "name": "stdout",
          "output_type": "stream",
          "text": [
            "1234, "
          ]
        }
      ],
      "source": [
        "# если нам надо найти последовательности ТОЛЬКО из 4х чисел, то нуно добавить знак $ в конеч строки\n",
        "all_strings = ['1', '12', '123','1234', '12345', '123456']\n",
        "for element in all_strings:\n",
        "    match = re.search(### ДОПИШИТЕ КОД\n",
        "    if match:\n",
        "        print(match.group(), end = ', ')"
      ]
    },
    {
      "cell_type": "code",
      "execution_count": null,
      "metadata": {
        "colab": {
          "base_uri": "https://localhost:8080/"
        },
        "id": "B1frPYMKfpiB",
        "outputId": "03d5df5c-fc2f-4c01-e0dd-27337753d7ed"
      },
      "outputs": [
        {
          "name": "stdout",
          "output_type": "stream",
          "text": [
            "Брэд Питт, брэд Питт, брэд питт, "
          ]
        }
      ],
      "source": [
        "# зададим условие для поиска правильных Брэд Питтов\n",
        "# Брэдд Питт не обижается, если его имя пишут с маленькой буквы\n",
        "# но ему неприятно, если между именем и фамилией нет символа табуляции\n",
        "all_strings = ['Брэд Питт', 'брэд Питт', 'брэд питт', 'брэд_питт', 'Брэд666Питт']\n",
        "for element in all_strings:\n",
        "    match = re.search(r'### ДОПИШИТЕ КОД\n",
        "    if match:\n",
        "        print(match.group(), end = ', ')"
      ]
    },
    {
      "cell_type": "markdown",
      "metadata": {
        "id": "huFHLDcbo3aj"
      },
      "source": [
        "#### Работа с заглавными буквами"
      ]
    },
    {
      "cell_type": "code",
      "execution_count": null,
      "metadata": {
        "colab": {
          "base_uri": "https://localhost:8080/"
        },
        "id": "SgKxHtMOfpiB",
        "outputId": "9ba09998-e94c-4f86-fccb-37572401a2f8"
      },
      "outputs": [
        {
          "name": "stdout",
          "output_type": "stream",
          "text": [
            "<re.Match object; span=(0, 37), match='у любви у нашей села батарейка ОООООО'>\n"
          ]
        }
      ],
      "source": [
        "# Выведите все слова\n",
        "# загадочная буква ё, на которой всё ломается\n",
        "st = 'у любви у нашей села батарейка ООООООЁЁЁЁИИЯЯЯЯЯИИИЁЁЁЁЁЁЁЁ БАТАРЕЙКА'\n",
        "print(re.search(r### ДОПИШИТЕ КОД).group(0))"
      ]
    },
    {
      "cell_type": "code",
      "execution_count": null,
      "metadata": {
        "colab": {
          "base_uri": "https://localhost:8080/"
        },
        "id": "tWLrL4xLfpiC",
        "outputId": "2dfbb1cc-0149-4720-ed40-2c600db2df20"
      },
      "outputs": [
        {
          "name": "stdout",
          "output_type": "stream",
          "text": [
            "у любви у нашей села батарейка ООООООЁЁЁЁИИЯЯЯЯЯИИИЁЁЁЁЁЁЁЁ БАТАРЕЙКА\n"
          ]
        }
      ],
      "source": [
        "#как исправить? не забыть добавить Ё после а-я!\n",
        "st = 'у любви у нашей села батарейка ООООООЁЁЁЁИИЯЯЯЯЯИИИЁЁЁЁЁЁЁЁ БАТАРЕЙКА'\n",
        "### ДОПИШИТЕ КОД"
      ]
    },
    {
      "cell_type": "markdown",
      "metadata": {
        "id": "Sw2vRAaBo9u9"
      },
      "source": [
        "Кстати, для обозначения заглавных букв нередко употребляют жаргонизм *капитализация* от английского слова capital (letter). Не пугайтесь, эта капитализация не имеет ничего общего с финансами, а просто поясняет, какими буквами написано слово.\n",
        "\n",
        "Для того, чтобы привести все буквы к нижнему регистру используется метод `string.lower()`, а к верхнему - `string.upper()`."
      ]
    },
    {
      "cell_type": "code",
      "execution_count": null,
      "metadata": {
        "colab": {
          "base_uri": "https://localhost:8080/"
        },
        "id": "JpR5GgOlpi_F",
        "outputId": "d1a2f87f-4af3-4589-d183-dbce34883aa0"
      },
      "outputs": [
        {
          "name": "stdout",
          "output_type": "stream",
          "text": [
            "у любви у нашей села батарейка ооооооёёёёиияяяяяиииёёёёёёёё батарейка\n",
            "У ЛЮБВИ У НАШЕЙ СЕЛА БАТАРЕЙКА ООООООЁЁЁЁИИЯЯЯЯЯИИИЁЁЁЁЁЁЁЁ БАТАРЕЙКА\n"
          ]
        }
      ],
      "source": [
        "st = 'у любви у нашей села батарейка ООООООЁЁЁЁИИЯЯЯЯЯИИИЁЁЁЁЁЁЁЁ БАТАРЕЙКА'\n",
        "print(st.lower())\n",
        "print(st.upper())"
      ]
    },
    {
      "cell_type": "markdown",
      "metadata": {
        "id": "rU-4obYVpvuC"
      },
      "source": [
        "#### Примеры посложнее"
      ]
    },
    {
      "cell_type": "code",
      "execution_count": null,
      "metadata": {
        "colab": {
          "base_uri": "https://localhost:8080/"
        },
        "id": "Bp8uaAmWfpiC",
        "outputId": "cfdc2452-411f-4e73-d449-5c31a54c71aa"
      },
      "outputs": [
        {
          "name": "stdout",
          "output_type": "stream",
          "text": [
            "piiiiii\n"
          ]
        }
      ],
      "source": [
        "## найдём в слове столько i, сколько возможно\n",
        "string = 'piiiiiig'\n",
        "match = re.search(### ДОПИШИТЕ КОД\n",
        "print(match.group())"
      ]
    },
    {
      "cell_type": "code",
      "execution_count": null,
      "metadata": {
        "colab": {
          "base_uri": "https://localhost:8080/"
        },
        "id": "9viCuj50fpiD",
        "outputId": "d416d9e2-86bd-43d1-e171-506d8f1bb2ab"
      },
      "outputs": [
        {
          "ename": "AttributeError",
          "evalue": "'list' object has no attribute 'group'",
          "output_type": "error",
          "traceback": [
            "\u001b[0;31m---------------------------------------------------------------------------\u001b[0m",
            "\u001b[0;31mAttributeError\u001b[0m                            Traceback (most recent call last)",
            "Cell \u001b[0;32mIn[18], line 4\u001b[0m\n\u001b[1;32m      2\u001b[0m string \u001b[38;5;241m=\u001b[39m \u001b[38;5;124m'\u001b[39m\u001b[38;5;124mpiigiiiiii\u001b[39m\u001b[38;5;124m'\u001b[39m\n\u001b[1;32m      3\u001b[0m match \u001b[38;5;241m=\u001b[39m re\u001b[38;5;241m.\u001b[39mfindall(\u001b[38;5;124mr\u001b[39m\u001b[38;5;124m'\u001b[39m\u001b[38;5;124mi*\u001b[39m\u001b[38;5;124m'\u001b[39m, string)\n\u001b[0;32m----> 4\u001b[0m \u001b[38;5;28mprint\u001b[39m(\u001b[43mmatch\u001b[49m\u001b[38;5;241;43m.\u001b[39;49m\u001b[43mgroup\u001b[49m())\n",
            "\u001b[0;31mAttributeError\u001b[0m: 'list' object has no attribute 'group'"
          ]
        }
      ],
      "source": [
        "## сталкиваемся с особенностью метода search - метод search ищет только самое первое (самое левое) вхождение\n",
        "## напишите код который находит все вхождения подстрок из i и выведите результат \n",
        "string = 'piigiiiiii'\n",
        "match = re. ### ДОПИШИТЕ КОД\n",
        "print(match.)"
      ]
    },
    {
      "cell_type": "code",
      "execution_count": null,
      "metadata": {
        "colab": {
          "base_uri": "https://localhost:8080/"
        },
        "id": "a_BloYp6fpiD",
        "outputId": "85d84b73-ab56-434d-fc92-c6ef62f4aedc"
      },
      "outputs": [
        {
          "name": "stdout",
          "output_type": "stream",
          "text": [
            "pig, pug, pigpugpig, pig_pug, "
          ]
        }
      ],
      "source": [
        "#теперь попробуем найти не только свиней, но и мопсов (pug - мопс)\n",
        "all_strings = ['pig', 'pog', 'pug', 'piug', 'pigpugpig', 'pig_pug']\n",
        "for element in all_strings:\n",
        "    match = re.search(### ДОПИШИТЕ КОД\n",
        "    if match:\n",
        "        print(match.group(), end = ', ')"
      ]
    },
    {
      "cell_type": "code",
      "execution_count": null,
      "metadata": {
        "colab": {
          "base_uri": "https://localhost:8080/"
        },
        "id": "1Gnu-beQfpiD",
        "outputId": "ade390a2-35b8-4601-88f5-7ed2eeb24075"
      },
      "outputs": [
        {
          "name": "stdout",
          "output_type": "stream",
          "text": [
            "ха-ха, ха-хаха-ха-ха, хо-хоха-хахо-, хахоха, "
          ]
        }
      ],
      "source": [
        "# посмеялись и хватит, давайте найдём строки где не больше 5и смешков\n",
        "# с условием, что кто-то смеётся с дефисом, а кто-то без\n",
        "all_strings = ['ха-ха', 'ха-хаха-ха-хаха-ха','хо-хоха-хахо-хохах-ах', 'хахоха']\n",
        "for element in all_strings:\n",
        "    match = re.search(### ДОПИШИТЕ КОД\n",
        "    if match:\n",
        "        print(match.group(), end = ', ')"
      ]
    },
    {
      "cell_type": "markdown",
      "metadata": {
        "id": "1t1UvXZZfpiD"
      },
      "source": [
        "### Попробуем найти все e-mail'ы в строке"
      ]
    },
    {
      "cell_type": "code",
      "execution_count": null,
      "metadata": {
        "colab": {
          "base_uri": "https://localhost:8080/"
        },
        "id": "hB6wfkl2fpiE",
        "outputId": "d5892063-e4c2-4547-9fa3-a8620a55d2c3"
      },
      "outputs": [
        {
          "name": "stdout",
          "output_type": "stream",
          "text": [
            "b@google\n"
          ]
        }
      ],
      "source": [
        "# как бы мы делали раньше\n",
        "import re\n",
        "string = 'purple alice-b@google.com monkey dishwasher'\n",
        "match = re.search(r'\\w+@\\w+', string) # что-то, потом @, потом ещё что-то\n",
        "if match:\n",
        "    print(match.group())"
      ]
    },
    {
      "cell_type": "markdown",
      "metadata": {
        "id": "mqSfeQs7fpiE"
      },
      "source": [
        "В этом случае поиск не дает полного адреса электронной почты, потому что `\\w` не соответствует дефису или точке в адресе. Исправим это, используя функции регулярных выражений ниже. Коды `\\w`, `\\s` и другие работают точно так же внутри квадратных скобок. Исключение - точка (.), которая внутри скобок означает просто буквальную точку. \n",
        "\n",
        "**Итак, собираем регулярное выражение:**\n",
        "\n",
        "1) `[\\w.-]` всё, что может находиться в адресе электронной почты\n",
        "\n",
        "2) `[\\w.-]+` добавим плюс, так как там может быть сколько угодно символов\n",
        "\n",
        "3) `[\\w.-]+@[\\w.-]+` посередине знак @, готово!"
      ]
    },
    {
      "cell_type": "code",
      "execution_count": null,
      "metadata": {
        "colab": {
          "base_uri": "https://localhost:8080/"
        },
        "id": "pYdnC0sYfpiE",
        "outputId": "a30f5848-55a5-48db-c927-70ae87668b00"
      },
      "outputs": [
        {
          "name": "stdout",
          "output_type": "stream",
          "text": [
            "alice-b@google.com\n"
          ]
        }
      ],
      "source": [
        "# как мы будем делать, зная регулярные выражения\n",
        "import re\n",
        "string = 'purple alice-b@google.com monkey dishwasher'\n",
        "match = re.search(### ДОПИШИТЕ КОД\n",
        "if match:\n",
        "    print(match.group())"
      ]
    },
    {
      "cell_type": "markdown",
      "metadata": {
        "id": "7XnC3vpQfpiE"
      },
      "source": [
        "\n",
        "### Группировка \n",
        "\n",
        "Функция \"группировки\" регулярного выражения позволяет вам выделять части совпадающего текста. Предположим, что для проблемы электронной почты мы хотим извлечь имя пользователя и хост отдельно. Для этого добавьте круглые скобки () вокруг имени пользователя и хоста в шаблоне. В этом случае круглые скобки не меняют то, чему будет соответствовать шаблон, вместо этого они создают логические «группы» внутри текста соответствия. При успешном поиске `match.group(1)` - это текст совпадения, соответствующий 1-й левой круглой скобке, а `match.group(2)` - текст, соответствующий 2-й левой скобке. Обычный `match.group()`, как обычно, по-прежнему представляет собой весь текст соответствия."
      ]
    },
    {
      "cell_type": "code",
      "execution_count": 19,
      "metadata": {
        "colab": {
          "base_uri": "https://localhost:8080/"
        },
        "id": "L_iRyb8MfpiE",
        "outputId": "47e8364e-9e42-4f0a-b4c7-54b4a90e5d41"
      },
      "outputs": [
        {
          "name": "stdout",
          "output_type": "stream",
          "text": [
            "alice-b@google.com\n",
            "alice-b\n",
            "google.com\n"
          ]
        }
      ],
      "source": [
        "string = 'purple alice-b@google.com monkey dishwasher'\n",
        "match = re.search('([\\w.-]+)@([\\w.-]+)', string)\n",
        "if match:\n",
        "    print(match.group())   ## 'alice-b@google.com' (полное совпадение)\n",
        "    print(match.group(1))  ## 'alice-b' (юзернейм)\n",
        "    print(match.group(2))  ## 'google.com' (домен электронной почты)"
      ]
    },
    {
      "cell_type": "markdown",
      "metadata": {
        "id": "-8mVZ-qYfpiF"
      },
      "source": [
        "### Функции кроме search()\n",
        "\n",
        "`re.split(pattern, string, maxsplit=0)`\tАналог `str.split()`, только разделение происходит по подстрокам, подходящим под шаблон pattern;\n",
        "\n"
      ]
    },
    {
      "cell_type": "code",
      "execution_count": null,
      "metadata": {
        "colab": {
          "base_uri": "https://localhost:8080/"
        },
        "id": "PSYdNPrnqvMj",
        "outputId": "823335ef-8571-4e2f-c1be-e190c09480d0"
      },
      "outputs": [
        {
          "data": {
            "text/plain": [
              "['itsy,', 'bitsy,', 'teenie,', 'weenie']"
            ]
          },
          "execution_count": 203,
          "metadata": {},
          "output_type": "execute_result"
        }
      ],
      "source": [
        "# по умолчанию метод split делит строку по пробелам\n",
        "'itsy, bitsy, teenie, weenie'.split()"
      ]
    },
    {
      "cell_type": "code",
      "execution_count": null,
      "metadata": {
        "colab": {
          "base_uri": "https://localhost:8080/"
        },
        "id": "9cgGGjsHq3Ho",
        "outputId": "d9b04fe7-1133-4250-d302-766be53e9899"
      },
      "outputs": [
        {
          "data": {
            "text/plain": [
              "['itsy', ' bitsy', ' teenie', ' weenie']"
            ]
          },
          "execution_count": 204,
          "metadata": {},
          "output_type": "execute_result"
        }
      ],
      "source": [
        "#но можно добавить выражение, по которому мы делим\n",
        "'itsy, bitsy, teenie, weenie'.split(',')"
      ]
    },
    {
      "cell_type": "code",
      "execution_count": null,
      "metadata": {
        "colab": {
          "base_uri": "https://localhost:8080/"
        },
        "id": "8fye-PpWqqI5",
        "outputId": "c731c19b-f4b1-4bcb-d7f4-3b5daa7ac0b0"
      },
      "outputs": [
        {
          "name": "stdout",
          "output_type": "stream",
          "text": [
            "['itsy', ' bitsy', ' teenie', ' weenie']\n"
          ]
        }
      ],
      "source": [
        "# тоже самов с  re\n",
        "string = 'itsy, bitsy, teenie, weenie'\n",
        "result = re.split(',', string) \n",
        "print(result)"
      ]
    },
    {
      "cell_type": "code",
      "execution_count": null,
      "metadata": {
        "colab": {
          "base_uri": "https://localhost:8080/"
        },
        "id": "RNNSarNvrDBF",
        "outputId": "077ba773-e160-49eb-de5e-171217661088"
      },
      "outputs": [
        {
          "name": "stdout",
          "output_type": "stream",
          "text": [
            "['itsy', ' bitsy', ' teenie, weenie']\n"
          ]
        }
      ],
      "source": [
        "# можно указать максимальное количество разбиений\n",
        "string = 'itsy, bitsy, teenie, weenie'\n",
        "result = re.split(',', string, maxsplit = 2) \n",
        "print(result)"
      ]
    },
    {
      "cell_type": "code",
      "execution_count": null,
      "metadata": {
        "colab": {
          "base_uri": "https://localhost:8080/"
        },
        "id": "0oKEeC7brJ4H",
        "outputId": "9087ccfb-5ea4-4468-f0e2-58af8e1fcf99"
      },
      "outputs": [
        {
          "data": {
            "text/plain": [
              "['He woke up',\n",
              " 'He cooked berakfast',\n",
              " 'He drank coffee. He left home. He entered subway.']"
            ]
          },
          "execution_count": 207,
          "metadata": {},
          "output_type": "execute_result"
        }
      ],
      "source": [
        "# разобьем строку, состоящую из нескольких предложений, по точкам, но не более чем на 3 предложения.\n",
        "string = 'He woke up. He cooked berakfast. He drank coffee. He left home. He entered subway.'\n",
        "result = re.split(### ДОПИШИТЕ КОД\n",
        "[x.strip() for x in result]"
      ]
    },
    {
      "cell_type": "code",
      "execution_count": null,
      "metadata": {
        "colab": {
          "base_uri": "https://localhost:8080/"
        },
        "id": "-j2XjCHbfpiF",
        "outputId": "c6d7fcea-0d7b-4398-c746-f121d9c8d363"
      },
      "outputs": [
        {
          "name": "stdout",
          "output_type": "stream",
          "text": [
            "['В моём сердце дырка', 'мне нужна таблетка']\n"
          ]
        }
      ],
      "source": [
        "# тестируем функцию split, которая поделит строку на две части по дефису, окружённому знаками табуляции (пробелами)\n",
        "string = 'В моём сердце дырка - мне нужна таблетка'\n",
        "### ДОПИШИТЕ КОД"
      ]
    },
    {
      "cell_type": "markdown",
      "metadata": {
        "id": "u7rt8PN_qfnu"
      },
      "source": [
        "`re.findall(pattern, string)`\t ищет в строке `string` **все** непересекающиеся шаблоны `pattern`\n",
        "\n"
      ]
    },
    {
      "cell_type": "code",
      "execution_count": null,
      "metadata": {
        "colab": {
          "base_uri": "https://localhost:8080/"
        },
        "id": "fhRCFS6rrfVk",
        "outputId": "6cc87a67-c1b4-4e47-ac52-f4271fafb61f"
      },
      "outputs": [
        {
          "name": "stdout",
          "output_type": "stream",
          "text": [
            "['котиков', 'котят', 'котов']\n"
          ]
        }
      ],
      "source": [
        "# найдем всех котов\n",
        "string = 'я люблю котиков, кошечек, котят и котов.'\n",
        "result = re.findall(### ДОПИШИТЕ КОД\n",
        "print(result)"
      ]
    },
    {
      "cell_type": "code",
      "execution_count": null,
      "metadata": {
        "colab": {
          "base_uri": "https://localhost:8080/"
        },
        "id": "d1NqLnBifpiF",
        "outputId": "113c9b38-0370-403f-a98d-6a948ce9c650"
      },
      "outputs": [],
      "source": [
        "## Теперь найдем все email\n",
        "string = 'purple alice@google.com, blah monkey bob@abc.com blah dishwasher alice.bob@google.com, alice_bob@google.com,'\n",
        "\n",
        "## re.findall() возвращает список со всеми вхождениями шаблона\n",
        "emails = re.findall(### ДОПИШИТЕ КОД\n",
        "for email in emails:\n",
        "    print(email)"
      ]
    },
    {
      "cell_type": "markdown",
      "metadata": {
        "id": "B6B6UyvTrgxe"
      },
      "source": [
        "`re.finditer(pattern, string)`\tИтератор по всем непересекающимся шаблонам `pattern` в строке `string` (выдаются match-объекты)\n",
        "\n"
      ]
    },
    {
      "cell_type": "code",
      "execution_count": null,
      "metadata": {
        "colab": {
          "base_uri": "https://localhost:8080/"
        },
        "id": "Ly_HVhr1fpiF",
        "outputId": "61644fd3-5bfa-4338-e0e9-e4dd83fb53ce"
      },
      "outputs": [
        {
          "name": "stdout",
          "output_type": "stream",
          "text": [
            "Дата 27.03.2020 начинается с позиции 23\n",
            "Дата 1.11.2021 начинается с позиции 49\n"
          ]
        }
      ],
      "source": [
        "# Найти даты\n",
        "# Обратим внимание, как записаны даты: день(1-2 числа) - месяц (строго 2 числа) - год (строго 4 числа)\n",
        "# match.start() индекс в исходной строке, начиная с которого идёт найденная подстрока\n",
        "string = 'Первый локдаун начался 27.03.2020, а последний - 1.11.2021'\n",
        "for match in re.finditer(### ДОПИШИТЕ КОД\n",
        "    print('Дата', match.group(), 'начинается с позиции', match.start()) "
      ]
    },
    {
      "cell_type": "markdown",
      "metadata": {
        "id": "qN37N5a7tqS1"
      },
      "source": [
        "`re.match(pattern, string)`\tищет входения шаблона в НАЧАЛЕ строки"
      ]
    },
    {
      "cell_type": "code",
      "execution_count": null,
      "metadata": {
        "colab": {
          "base_uri": "https://localhost:8080/"
        },
        "id": "oIKfHfvjteTH",
        "outputId": "0d2b0d76-1d91-4e1d-b7be-4c4e5de3e649"
      },
      "outputs": [
        {
          "name": "stdout",
          "output_type": "stream",
          "text": [
            "None\n"
          ]
        }
      ],
      "source": [
        "# найдем котов\n",
        "string = 'я люблю котиков, кошечек, котят и котов.'\n",
        "result = re.match(### ДОПИШИТЕ КОД\n",
        "print(result)"
      ]
    },
    {
      "cell_type": "code",
      "execution_count": null,
      "metadata": {
        "colab": {
          "base_uri": "https://localhost:8080/"
        },
        "id": "_fouV3eQuK6C",
        "outputId": "a630e08a-e4fa-470e-edec-72c228e28d3a"
      },
      "outputs": [
        {
          "name": "stdout",
          "output_type": "stream",
          "text": [
            "кот\n"
          ]
        }
      ],
      "source": [
        "# найдем котов\n",
        "string = 'кот сидел на коврике'\n",
        "result = re.match(### ДОПИШИТЕ КОД\n",
        "print(result.group(0))"
      ]
    },
    {
      "cell_type": "markdown",
      "metadata": {
        "id": "AUE7c0D9sSOD"
      },
      "source": [
        "`re.sub(pattern, repl, string, count=0)`\tзаменяет в строке `string` все непересекающиеся шаблоны `pattern` на `repl`"
      ]
    },
    {
      "cell_type": "code",
      "execution_count": null,
      "metadata": {
        "colab": {
          "base_uri": "https://localhost:8080/"
        },
        "id": "jHOVbezwscdy",
        "outputId": "50e9db9c-7e6a-47f5-9161-272d8c0ac3e9"
      },
      "outputs": [
        {
          "name": "stdout",
          "output_type": "stream",
          "text": [
            "Момо мыло рому.\n"
          ]
        }
      ],
      "source": [
        "# заменим А на Б\n",
        "string = 'Мама мыла раму.'\n",
        "result = re.sub(### ДОПИШИТЕ КОД\n",
        "print(result)"
      ]
    },
    {
      "cell_type": "code",
      "execution_count": null,
      "metadata": {
        "colab": {
          "base_uri": "https://localhost:8080/"
        },
        "id": "xupvDUhmsd_t",
        "outputId": "5171458d-24ce-416a-cad3-0dad3b007900"
      },
      "outputs": [
        {
          "name": "stdout",
          "output_type": "stream",
          "text": [
            "Момо мыло раму.\n"
          ]
        }
      ],
      "source": [
        "# можно установить ограничение на количество замен, по умолчанию его нет\n",
        "string = 'Мама мыла раму.'\n",
        "result = re.sub(### ДОПИШИТЕ КОД\n",
        "print(result)"
      ]
    },
    {
      "cell_type": "code",
      "execution_count": 24,
      "metadata": {
        "colab": {
          "base_uri": "https://localhost:8080/"
        },
        "id": "y3al_62CfpiF",
        "outputId": "eadee1c1-78d9-4e4f-8b17-8a8f335f75a7"
      },
      "outputs": [
        {
          "name": "stdout",
          "output_type": "stream",
          "text": [
            "Недавно ЗАПРЕЩЕННАЯ В РОССИИ ТЕРРОРИСТИЧЕСКАЯ ОРГАНИЗАЦИЯ совместо с ЗАПРЕЩЕННАЯ В РОССИИ ТЕРРОРИСТИЧЕСКАЯ ОРГАНИЗАЦИЯ признала себя виновной в совершении тяжких преступлений, в отношении ЗАПРЕЩЕННАЯ В РОССИИ ТЕРРОРИСТИЧЕСКАЯ ОРГАНИЗАЦИЯ так же будут приняты ответные меры\n"
          ]
        }
      ],
      "source": [
        "# Пример посложнее\n",
        "print(re.sub(r'Аль\\-\\w+|Талиб\\w+', \n",
        "             'запрещенная в россии террористическая организация'.upper(), \n",
        "             'Недавно Аль-Каида совместо с Аль-Джихадом признала себя виновной в совершении тяжких преступлений, в отношении Талибов так же будут приняты ответные меры')) "
      ]
    },
    {
      "cell_type": "markdown",
      "metadata": {
        "id": "ggtXO3B_uj8p"
      },
      "source": [
        "`re.compile` компилирует регулярное выражение в отдельный объект"
      ]
    },
    {
      "cell_type": "code",
      "execution_count": null,
      "metadata": {
        "colab": {
          "base_uri": "https://localhost:8080/"
        },
        "id": "3mFwl3vwujNk",
        "outputId": "fb90286a-f4ec-4f21-b2be-60f823decb7d"
      },
      "outputs": [],
      "source": [
        "# построим список всех слов строки\n",
        "string = \"Слова? Да, больше, ещё больше слов! Что-то ещё.\"\n",
        "prog = re.compile(### ДОПИШИТЕ КОД\n",
        "prog.findall(string)"
      ]
    },
    {
      "cell_type": "code",
      "execution_count": null,
      "metadata": {
        "colab": {
          "base_uri": "https://localhost:8080/"
        },
        "id": "FF0XO2WZuv6l",
        "outputId": "86067f3c-e338-4fb5-b079-f12bfe5c0ce2"
      },
      "outputs": [
        {
          "data": {
            "text/plain": [
              "['Слова', 'больше', 'ещё', 'больше', 'слов', 'Что-то', 'ещё']"
            ]
          },
          "execution_count": 218,
          "metadata": {},
          "output_type": "execute_result"
        }
      ],
      "source": [
        "# для выбранной строки постройте список слов, которые длиннее трех символов\n",
        "string = \"Слова? Да, больше, ещё больше слов! Что-то ещё.\"\n",
        "prog = re.compile(### ДОПИШИТЕ КОД\n",
        "prog.findall(string)"
      ]
    },
    {
      "cell_type": "code",
      "execution_count": null,
      "metadata": {
        "colab": {
          "base_uri": "https://localhost:8080/",
          "height": 35
        },
        "id": "L4V2xWgTu5xA",
        "outputId": "15769200-3e8d-4eee-fda9-16705f36d521"
      },
      "outputs": [
        {
          "data": {
            "application/vnd.google.colaboratory.intrinsic+json": {
              "type": "string"
            },
            "text/plain": [
              "'Слова'"
            ]
          },
          "execution_count": 219,
          "metadata": {},
          "output_type": "execute_result"
        }
      ],
      "source": [
        "# найти первое слово в строке\n",
        "string = \"Слова? Да, больше, ещё больше слов! Что-то ещё.\"\n",
        "prog = re.compile(### ДОПИШИТЕ КОД\n",
        "prog.match(string).group(0)"
      ]
    },
    {
      "cell_type": "markdown",
      "metadata": {
        "id": "SstH50KssJlu"
      },
      "source": [
        "\n",
        "\n",
        "`re.IGNORECASE` позволяет не различать заглавные и маленькие буквы. Работает медленнее, но иногда удобно."
      ]
    },
    {
      "cell_type": "code",
      "execution_count": null,
      "metadata": {
        "colab": {
          "base_uri": "https://localhost:8080/"
        },
        "id": "wz6n64IxfpiF",
        "outputId": "5f6b9db0-961c-4253-9c3e-6b7a13db9339"
      },
      "outputs": [
        {
          "name": "stdout",
          "output_type": "stream",
          "text": [
            "['ОООО', 'ааааа', 'оооо', 'ММММ', 'мМммМММм']\n"
          ]
        }
      ],
      "source": [
        "# последнии пример, игнорирование регистра в регулярных выражениях\n",
        "string = 'ОООО ааааа оооо ММММ мМммМММм'\n",
        "### ДОПИШИТЕ КОД"
      ]
    },
    {
      "cell_type": "markdown",
      "metadata": {
        "id": "XdaG5xfUfpiF"
      },
      "source": [
        "### Где потренироваться в регулярных выражениях?\n",
        "\n",
        "* [https://pythex.org/](https://pythex.org/)\n",
        "\n",
        "* [https://regex101.com/r/F8dY80/3](https://regex101.com/r/F8dY80/3)"
      ]
    },
    {
      "cell_type": "markdown",
      "metadata": {
        "id": "gnTK9EexfpiG"
      },
      "source": [
        "### Cамостоятельные задачки для самых активных NLPшников\n"
      ]
    },
    {
      "cell_type": "markdown",
      "metadata": {},
      "source": [
        "#### Текст для примера для задач 1-3\n",
        "\n",
        "Сегодня в пресс-релизе МИД РФ и NASA ESA, а также ООН ЮНЕСКО, объявили о совместном пилотном проекте. Во встрече в Берлине приняли участие Анна Петрова и Михаил Иванов, а координатором выступил Виктор Сергеев. Компания ООО РОМАШКА и НИИ МЕХАНИКИ обязались подготовить отчёт до 05.03.2007, тогда как рабочую сессию перенесли на 7/11/07; резервная дата указана как 12-04-07. Кроме того, НАТО и ЦУМ поддержали информационную кампанию, ИП ПЕТРОВ выступит подрядчиком по логистике, а консультантом станет Екатерина Смирнова. Вчера я обсуждал детали с Иваном в кафе на набережной Волги и отправил письмо в адрес ESA и МИД РФ."
      ]
    },
    {
      "cell_type": "markdown",
      "metadata": {
        "id": "IK-Kzi8hfpiG"
      },
      "source": [
        "\n",
        "\n",
        "**Задача №1**\n",
        "\n",
        "Собрать все аббревиатуры\n",
        "\n",
        "Будем считать аббревиатурой слова только лишь из заглавных букв (как минимум из двух). Если несколько таких слов разделены пробелами, то они считаются одной аббревиатурой."
      ]
    },
    {
      "cell_type": "markdown",
      "metadata": {
        "id": "Vy6Au6itfpiG"
      },
      "source": [
        "**Задача №2**\n",
        "\n",
        "Найти дату в строке. В отличие от прошлого примера год может записыватьс двумя способами - 2007 или 07, то есть 4 или 2 символа, вывести месяц."
      ]
    },
    {
      "cell_type": "markdown",
      "metadata": {
        "id": "7wjR8fpdfpiG"
      },
      "source": [
        "**Задача №3**\n",
        "\n",
        "Найти все имена собственные в тексте. Случаи, когда предложение начинается с имени собственного, можно игнорировать.\n",
        "\n",
        "В данном случае, будем считать что имя собственное - слово, начинающеся с большой буквы. Случаи, когда предложение начинается с имени собственного, можно игнорировать."
      ]
    },
    {
      "cell_type": "markdown",
      "metadata": {},
      "source": [
        "#### Это список строк для задач 5, 6\n",
        "\n",
        "list_of_strings = [\"ПриветМир\", \n",
        "                   \"abcXYZ\", \n",
        "                   \"МарияАнтуанетта\", \n",
        "                   \"über\", \n",
        "                   \"abc-xyz\", \n",
        "                   \"abc_123\", \n",
        "                   \"хлеб\", \n",
        "                   \"арбузб\", \n",
        "                   \"арбузБ\", \n",
        "                   \"баб\", \n",
        "                   \"ббабб\", \n",
        "                   \"б\", \n",
        "                   \"бббаббаб\", \n",
        "                   \"ба\", \n",
        "                   \"аб\",\n",
        "                   \"аба\", \n",
        "                   \"а\", \n",
        "                   \"Ваня Ваня пришёл вовремя\", \n",
        "                   \"что что это же очевидно бабушка\", \n",
        "                   \"мы просто говорим тут\", \n",
        "                   \"123 это строка и заканчивается словом финал\", \n",
        "                   \"+42 пример строки с числом в начале и словом на конце слово\", \n",
        "                   \"7 а тут в конце восклицание!\", \"В пещере цвет выцвел, и ворон каркнул громко.\", \n",
        "                   \"цветы не считаются, зато ворон тут есть.\", \"This is fine.\", \n",
        "                   \"The bag is empty.\", \n",
        "                   \"'Hello', she said softly.\", \n",
        "                   \"(Well) this is fine.\", \n",
        "                   \"It's nice.\", \n",
        "                   \"Re-enter the room.\"]"
      ]
    },
    {
      "cell_type": "markdown",
      "metadata": {},
      "source": [
        "### --Задание 5--\n",
        "\n",
        "Напишите регулярные выражения поиска.\n",
        "\n",
        "1. множества всех строк, состоящих только из букв;\n",
        "2. множества всех строк из строчных букв, оканчивающихся на букву б;\n",
        "3. множества всех строк над алфавитом {а, б}, в которых каждой букве a предшествует и за каторой слебуем буква б (то есть каждая a стоит в контексте бaб).\n",
        "\n",
        "### --Задание 6--\n",
        "Напишите регулярные выражения для поиска\n",
        "\n",
        "1. множества всех строк с двумя подряд идущими повторяющимися словами (например, «Ваня Ваня» и «что что», но не «что ты» и не «что ты наделал»);\n",
        "2. множества всех строк, которые начинаются в начале строки с целого числа и оканчиваются в конце строки словом;\n",
        "3. множества всех строк, в которых встречаются и слово «цвет», и слово «ворон» (но не, например, слова вроде «цветы», которые лишь содержат подстроку «цвет»);\n",
        "4. напишите шаблон, который помещает первое слово английского предложения в группу и помещает его в конец предложения. Учтите пунктуацию. "
      ]
    },
    {
      "cell_type": "markdown",
      "metadata": {},
      "source": [
        "### Задание 7 \n",
        "\n",
        "## вариант 1 (на примере английского языка)\n",
        "Цель\n",
        "\n",
        "Реализовать простейшего чат-бота в стиле ELIZA — диалог на основе шаблонных подстановок (регулярных выражений). Бот распознаёт некоторые речевые шаблоны в реплике пользователя и отвечает заранее заготовленными фразами, иногда повторяя части исходной реплики.\n",
        "\n",
        "Допускается выбрать иной «домен» (например, «коуч по продуктивности», «техподдержка», «фитнес-тренер»), но важно, чтобы предметная область позволяла строить простые повторяющиеся шаблоны.\n",
        "\n",
        "Минимальные требования к решению\n",
        "\n",
        "Нормализация входа: приведите текст к единому регистру (проще — к ВЕРХНЕМУ) или используйте re.IGNORECASE.\n",
        "\n",
        "Правила (pattern → response): храните набор пар «регулярное выражение → шаблон ответа».\n",
        "\n",
        "Порядок применения: идите по списку правил сверху вниз и используйте первое совпадение (или случайно выбирайте из нескольких ответов для одного и того же паттерна).\n",
        "\n",
        "Захватывающие группы: используйте скобки (...) и ссылки \\1, \\2, чтобы подставлять фрагменты из исходной реплики в ответ.\n",
        "\n",
        "Фолбэк (по желанию, но полезно): если ни одно правило не сработало, верните нейтральный ответ («PLEASE, GO ON.») или «эхо-ответ» с отражением местоимений (I→YOU, my→YOUR и т. п.).\n",
        "\n",
        "Пример набора правил (как в условии)\n",
        "re.sub(r\".* I AM (DEPRESSED|SAD) .*\", r\"I AM SORRY TO HEAR YOU ARE \\1\", input)\n",
        "re.sub(r\".* I AM (DEPRESSED|SAD) .*\", r\"WHY DO YOU THINK YOU ARE \\1\", input)\n",
        "re.sub(r\".* ALWAYS .*\",                 r\"CAN YOU THINK OF A SPECIFIC EXAMPLE\", input)\n",
        "\n",
        "    Что делает каждое правило\n",
        "\n",
        "    .* YOU ARE (DEPRESSED|SAD) .*\n",
        "    Ищет в строке фразу I AM и одно из слов DEPRESSED или SAD.\n",
        "\n",
        "    .* — «любой текст» до/после (жадное соответствие).\n",
        "\n",
        "    (DEPRESSED|SAD) — захватывающая группа: попадёт либо DEPRESSED, либо SAD.\n",
        "\n",
        "    В ответах \\1 вставит совпавшее слово (DEPRESSED/SAD).\n",
        "\n",
        "    .* ALWAYS .*\n",
        "    Срабатывает, если в тексте встречается слово/подстрока ALWAYS \n",
        "\n",
        "    Примечание о регистре: чтобы шаблоны сработали, вход обычно переводят в верхний регистр (input.upper()), либо включают флаг re.IGNORECASE.\n",
        "\n",
        "\n",
        "Ниже —  примеры коротких диалогов для демонстрации ELIZA с шаблонами на базе регулярок. Реплики ELIZA — в ВЕРХНЕМ РЕГИСТРЕ.\n",
        "\n",
        "1. (ALWAYS)\n",
        "User: They always complain about me.\n",
        "ELIZA: CAN YOU THINK OF A SPECIFIC EXAMPLE\n",
        "\n",
        "2. (ALWAYS)\n",
        "User: You always interrupt me during meetings.\n",
        "ELIZA: CAN YOU THINK OF A SPECIFIC EXAMPLE\n",
        "\n",
        "3. (YOU ARE (DEPRESSED|SAD) — через отражение “I’m → YOU ARE”)\n",
        "User: I’m depressed lately.\n",
        "ELIZA: I AM SORRY TO HEAR YOU ARE DEPRESSED\n",
        "\n",
        "4. (YOU ARE (DEPRESSED|SAD) — альтернативный ответ)\n",
        "User: I’m sad most evenings.\n",
        "ELIZA: WHY DO YOU THINK YOU ARE SAD\n",
        "\n",
        "5. (I NEED …)\n",
        "User: I need more time to finish this.\n",
        "ELIZA: WHY DO YOU NEED MORE TIME TO FINISH THIS\n",
        "\n",
        "6. (I WANT …)\n",
        "User: I want a new job.\n",
        "ELIZA: WHY DO YOU WANT A NEW JOB\n",
        "\n",
        "7. (BECAUSE …)\n",
        "User: I left early because I was tired.\n",
        "ELIZA: IS THAT THE REAL REASON\n",
        "\n",
        "8. (FAMILY/RELATION — MOTHER)\n",
        "User: My mother worries about my choices.\n",
        "ELIZA: TELL ME MORE ABOUT YOUR MOTHER\n",
        "\n",
        "9. (RELATION — BOYFRIEND)\n",
        "User: My boyfriend made me come here.\n",
        "ELIZA: YOUR BOYFRIEND MADE YOU COME HERE\n",
        "\n",
        "10. (Фолбэк с отражением местоимений)\n",
        "User: My manager pushed me too hard.\n",
        "ELIZA: YOUR MANAGER PUSHED YOU TOO HARD\n",
        "\n",
        "11. (Фолбэк с отражением местоимений)\n",
        "User: My cat annoys me sometimes.\n",
        "ELIZA: YOUR CAT ANNOYS YOU SOMETIMES\n",
        "\n",
        "12. (Фолбэк — нейтральная реакция, ни один шаблон не сработал)\n",
        "User: The weather is fine today.\n",
        "ELIZA: PLEASE, GO ON.\n",
        "\n",
        "\n",
        "\n"
      ]
    },
    {
      "cell_type": "markdown",
      "metadata": {},
      "source": [
        "### Задание 7 \n",
        "\n",
        "## вариант 2 (на примере русского языка)\n",
        "\n",
        "Цель\n",
        "\n",
        "Сделать простого чат-бота в стиле ELIZA на русском. Бот распознаёт шаблоны в реплике пользователя (через регулярные выражения) и отвечает заготовленными фразами, иногда повторяя части исходной реплики.\n",
        "\n",
        "Что требуется\n",
        "\n",
        "Нормализовать ввод: либо переводите реплику в ВЕРХНИЙ РЕГИСТР (text.upper()), либо используйте re.IGNORECASE.\n",
        "\n",
        "Сопоставлять правила сверху вниз: каждое правило — это пара (паттерн, шаблон ответа); срабатывает первое подходящее.\n",
        "\n",
        "Использовать группы: скобки (...) и ссылки \\1, \\2 для подстановки фрагментов.\n",
        "\n",
        "Фолбэк: если нет совпадений — нейтральный ответ («ПРОДОЛЖАЙ, ПОЖАЛУЙСТА.») или «эхо» с отражением местоимений (я→ты, мне→тебе, мой→твой и т. п.).\n",
        "\n",
        "Базовый набор правил (пример)\n",
        "\n",
        "Ниже — минимальные русскоязычные аналоги популярных правил ELIZA. \n",
        "\n",
        "# 1) Утверждения про грусть/упадок (после отражения «я»→«ты»)\n",
        "r\".*\\bТЫ (ГРУСТИШЬ|УНЫВАЕШЬ|ПЕЧАЛИШЬСЯ|РАССТРОЕН(?:А)?)\\b.*\"\n",
        "→ \"МНЕ ЖАЛЬ СЛЫШАТЬ, ЧТО ТЫ \\1.\"\n",
        "или\n",
        "→ \"ПОЧЕМУ ТЫ ДУМАЕШЬ, ЧТО ТЫ \\1?\"\n",
        "\n",
        "# 2) Обобщения «всегда»\n",
        "r\".*\\bВСЕГДА\\b.*\"\n",
        "→ \"МОЖЕШЬ ПРИВЕСТИ КОНКРЕТНЫЙ ПРИМЕР?\"\n",
        "\n",
        "# 3) Потребности и желания\n",
        "r\".*\\bМНЕ НУЖНО\\b\\s+(.+)\"\n",
        "→ \"ПОЧЕМУ ТЕБЕ НУЖНО \\1?\"\n",
        "\n",
        "r\".*\\bЯ ХОЧУ\\b\\s+(.+)\"\n",
        "→ \"ПОЧЕМУ ТЫ ХОЧЕШЬ \\1?\"\n",
        "\n",
        "# 4) Причины\n",
        "r\".*\\bПОТОМУ ЧТО\\b\\s+(.+)\"\n",
        "→ \"ЭТО ИСТИННАЯ ПРИЧИНА?\"\n",
        "\n",
        "# 5) Близкие/отношения (ответ без склонения, чтобы избежать грамматических ловушек)\n",
        "r\".*\\b(МАМА|ПАПА|ПАРЕНЬ|ДЕВУШКА|МУЖ|ЖЕНА|ДРУГ|ПОДРУГА)\\b.*\"\n",
        "→ \"РАССКАЖИ ПОДРОБНЕЕ О СВОИХ ОТНОШЕНИЯХ.\"\n",
        "\n",
        "Отражение местоимений (минимум)\n",
        "\n",
        "Перед проверкой правил (или в фолбэке) полезно применить простые замены:\n",
        "\n",
        "\\bя\\b → ТЫ, \\bменя\\b → ТЕБЯ, \\bмне\\b → ТЕБЕ, \\bмой\\b → ТВОЙ, \\bмоя\\b → ТВОЯ, \\bмои\\b → ТВОИ\n",
        "\n",
        "\\bмы\\b → ВЫ, \\bнаш\\b → ВАШ, \\bнаши\\b → ВАШИ\n",
        "\n",
        "(опционально в обратную сторону для «ты→я», если хотите отвечать от первого лица)\n",
        "\n",
        "Примеры диалогов (русский)\n",
        "\n",
        "1. (ВСЕГДА)\n",
        "User: Они всегда критикуют меня.\n",
        "ELIZA: МОЖЕШЬ ПРИВЕСТИ КОНКРЕТНЫЙ ПРИМЕР?\n",
        "\n",
        "2. (ВСЕГДА)\n",
        "User: Ты всегда перебиваешь меня на встречах.\n",
        "ELIZA: МОЖЕШЬ ПРИВЕСТИ КОНКРЕТНЫЙ ПРИМЕР?\n",
        "\n",
        "3. (ГРУСТЬ — через отражение «я»→«ты»)\n",
        "User: Я грущу последние дни.\n",
        "ELIZA: МНЕ ЖАЛЬ СЛЫШАТЬ, ЧТО ТЫ ГРУСТИШЬ.\n",
        "\n",
        "4. (ГРУСТЬ — альтернативный ответ)\n",
        "User: Я часто бываю расстроена.\n",
        "ELIZA: ПОЧЕМУ ТЫ ДУМАЕШЬ, ЧТО ТЫ РАССТРОЕНА?\n",
        "\n",
        "5. (МНЕ НУЖНО …)\n",
        "User: Мне нужно больше времени на проект.\n",
        "ELIZA: ПОЧЕМУ ТЕБЕ НУЖНО БОЛЬШЕ ВРЕМЕНИ НА ПРОЕКТ?\n",
        "\n",
        "6. (Я ХОЧУ …)\n",
        "User: Я хочу сменить работу.\n",
        "ELIZA: ПОЧЕМУ ТЫ ХОЧЕШЬ СМЕНИТЬ РАБОТУ?\n",
        "\n",
        "7. (ПОТОМУ ЧТО …)\n",
        "User: Я ушёл раньше, потому что устал.\n",
        "ELIZA: ЭТО ИСТИННАЯ ПРИЧИНА?\n",
        "\n",
        "8. (БЛИЗКИЕ)\n",
        "User: Моя мама очень волнуется из-за меня.\n",
        "ELIZA: РАССКАЖИ ПОДРОБНЕЕ О СВОИХ ОТНОШЕНИЯХ.\n",
        "\n",
        "9. (Фолбэк с отражением местоимений)\n",
        "User: Мой начальник давит на меня.\n",
        "ELIZA: ТВОЙ НАЧАЛЬНИК ДАВИТ НА ТЕБЯ.\n",
        "\n",
        "10. (Фолбэк — нейтрально)\n",
        "User: Погода сегодня отличная.\n",
        "ELIZA: ПРОДОЛЖАЙ, ПОЖАЛУЙСТА."
      ]
    }
  ],
  "metadata": {
    "colab": {
      "provenance": []
    },
    "kernelspec": {
      "display_name": "NLPExesices",
      "language": "python",
      "name": "python3"
    },
    "language_info": {
      "codemirror_mode": {
        "name": "ipython",
        "version": 3
      },
      "file_extension": ".py",
      "mimetype": "text/x-python",
      "name": "python",
      "nbconvert_exporter": "python",
      "pygments_lexer": "ipython3",
      "version": "3.10.13"
    },
    "orig_nbformat": 4
  },
  "nbformat": 4,
  "nbformat_minor": 0
}
